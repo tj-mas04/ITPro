{
 "cells": [
  {
   "cell_type": "code",
   "execution_count": 1,
   "id": "7bf1531d",
   "metadata": {},
   "outputs": [
    {
     "ename": "NameError",
     "evalue": "name '_name_' is not defined",
     "output_type": "error",
     "traceback": [
      "\u001b[31m---------------------------------------------------------------------------\u001b[39m",
      "\u001b[31mNameError\u001b[39m                                 Traceback (most recent call last)",
      "\u001b[36mCell\u001b[39m\u001b[36m \u001b[39m\u001b[32mIn[1]\u001b[39m\u001b[32m, line 41\u001b[39m\n\u001b[32m     38\u001b[39m         \u001b[38;5;28mprint\u001b[39m(\u001b[33mf\u001b[39m\u001b[33m\"\u001b[39m\u001b[33m🔗 View PDF    : \u001b[39m\u001b[38;5;132;01m{\u001b[39;00mview_link\u001b[38;5;132;01m}\u001b[39;00m\u001b[33m\"\u001b[39m)\n\u001b[32m     39\u001b[39m         \u001b[38;5;28mprint\u001b[39m(\u001b[33m\"\u001b[39m\u001b[33m-\u001b[39m\u001b[33m\"\u001b[39m * \u001b[32m60\u001b[39m)\n\u001b[32m---> \u001b[39m\u001b[32m41\u001b[39m \u001b[38;5;28;01mif\u001b[39;00m \u001b[43m_name_\u001b[49m == \u001b[33m\"\u001b[39m\u001b[33m_main_\u001b[39m\u001b[33m\"\u001b[39m:\n\u001b[32m     42\u001b[39m     parse_kerala_public_matters()\n",
      "\u001b[31mNameError\u001b[39m: name '_name_' is not defined"
     ]
    }
   ],
   "source": [
    "import requests\n",
    "from bs4 import BeautifulSoup\n",
    "\n",
    "def parse_kerala_public_matters():\n",
    "    url = \"https://hckinfo.keralacourts.in/digicourt/Casedetailssearch/Publicmatter\"\n",
    "    headers = {\n",
    "        \"User-Agent\": \"Mozilla/5.0\"\n",
    "    }\n",
    "\n",
    "    response = requests.get(url, headers=headers, timeout=10)\n",
    "    response.raise_for_status()\n",
    "\n",
    "    soup = BeautifulSoup(response.text, \"html.parser\")\n",
    "\n",
    "    table = soup.find(\"table\")\n",
    "    if not table:\n",
    "        print(\"❌ Could not find table.\")\n",
    "        return\n",
    "\n",
    "    rows = table.find_all(\"tr\")[1:]  # Skip header\n",
    "\n",
    "    for row in rows:\n",
    "        cols = row.find_all(\"td\")\n",
    "        if len(cols) < 4:\n",
    "            continue\n",
    "\n",
    "        s_no = cols[0].get_text(strip=True)\n",
    "        case_no = cols[1].get_text(strip=True)\n",
    "        order_date = cols[2].get_text(strip=True)\n",
    "        view_link_tag = cols[3].find(\"a\", href=True)\n",
    "        view_link = view_link_tag['href'] if view_link_tag else \"N/A\"\n",
    "        if view_link and not view_link.startswith(\"http\"):\n",
    "            view_link = \"https://hckinfo.keralacourts.in\" + view_link\n",
    "\n",
    "        print(f\"🔢 S. No.      : {s_no}\")\n",
    "        print(f\"📂 Case No.    : {case_no}\")\n",
    "        print(f\"📅 Order Date  : {order_date}\")\n",
    "        print(f\"🔗 View PDF    : {view_link}\")\n",
    "        print(\"-\" * 60)\n",
    "\n",
    "if _name_ == \"_main_\":\n",
    "    parse_kerala_public_matters()"
   ]
  }
 ],
 "metadata": {
  "kernelspec": {
   "display_name": "venv",
   "language": "python",
   "name": "python3"
  },
  "language_info": {
   "codemirror_mode": {
    "name": "ipython",
    "version": 3
   },
   "file_extension": ".py",
   "mimetype": "text/x-python",
   "name": "python",
   "nbconvert_exporter": "python",
   "pygments_lexer": "ipython3",
   "version": "3.13.2"
  }
 },
 "nbformat": 4,
 "nbformat_minor": 5
}
